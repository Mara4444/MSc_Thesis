{
 "cells": [
  {
   "cell_type": "code",
   "execution_count": 1,
   "metadata": {},
   "outputs": [
    {
     "name": "stderr",
     "output_type": "stream",
     "text": [
      "c:\\Users\\maras\\anaconda3\\envs\\llama\\lib\\site-packages\\tqdm\\auto.py:21: TqdmWarning: IProgress not found. Please update jupyter and ipywidgets. See https://ipywidgets.readthedocs.io/en/stable/user_install.html\n",
      "  from .autonotebook import tqdm as notebook_tqdm\n"
     ]
    }
   ],
   "source": [
    "from src.dataset_utils import *\n",
    "from src.cot_utils_copy import *"
   ]
  },
  {
   "cell_type": "code",
   "execution_count": 2,
   "metadata": {},
   "outputs": [],
   "source": [
    "xstorycloze = get_dataset_df(\"xstorycloze\",\"en\")"
   ]
  },
  {
   "cell_type": "code",
   "execution_count": 26,
   "metadata": {},
   "outputs": [],
   "source": [
    "def get_results(df,task,response_loc):\n",
    "    \"\"\"\n",
    "    Reads the response csv and calculates the accuracy for a model on a task.\n",
    "    \n",
    "    Parameters:\n",
    "    df: orginial task English file with correct answer column.\n",
    "    task: task name\n",
    "    response_loc: string location of the response csv file.\n",
    "\n",
    "    Returns:\n",
    "    Accuracy score (%)\n",
    "    \"\"\"\n",
    "    response = pd.read_csv(response_loc,sep=';',header=None)\n",
    "    response.rename(columns={0:'response'},inplace=True)\n",
    "    response = response.map(lambda x: x.replace('\\n', ' ') if isinstance(x, str) else x)\n",
    "\n",
    "    answer_list = []\n",
    "\n",
    "    if task == 'xcopa' or task == 'xstorycloze':\n",
    "\n",
    "        for i in range(len(response)):\n",
    "            answer = extract_ab_answer(response.iloc[i,0])\n",
    "            answer_list.append(answer)\n",
    "\n",
    "        response['answer'] = answer_list\n",
    "        print(response)\n",
    "\n",
    "        return calculate_accuracy(df,response,task)\n",
    "    \n",
    "    elif task == 'mgsm' or task == 'msvamp':\n",
    "\n",
    "        for i in range(len(response)):\n",
    "            answer = extract_numeric_answer(response.iloc[i,0])\n",
    "            answer_list.append(answer)\n",
    "\n",
    "        response['answer'] = answer_list\n",
    "\n",
    "def extract_ab_answer(inputstring):\n",
    "    \"\"\"\n",
    "    Finds the multiple choice answer (A, B) in the model's response.\n",
    "    \n",
    "    Parameters:\n",
    "    inputstring: The model's response.\n",
    "\n",
    "    Returns:\n",
    "    String value of the multiple choice answer.\n",
    "    \"\"\"\n",
    "    if isinstance(inputstring, str):\n",
    "\n",
    "        matches = re.findall(r'\\bA\\b|\\bB\\b|\\bВ\\b', inputstring)\n",
    "        \n",
    "        if len(matches) != 0:\n",
    "            return matches[0]\n",
    "        else: \n",
    "            return ''\n",
    "    else:\n",
    "        return ''\n"
   ]
  },
  {
   "cell_type": "code",
   "execution_count": 27,
   "metadata": {},
   "outputs": [
    {
     "name": "stdout",
     "output_type": "stream",
     "text": [
      "                                               response answer\n",
      "0     Response:  Варіант В: Зрештого, я переглянула них      В\n",
      "1     Response:  Найбільш імовірним кінцем історії є...       \n",
      "2     Response:  Варіант В: Літа складала білизну, д...      В\n",
      "3        Response:  Варіант В: Потім Лів змінила лампоч      В\n",
      "4     Response:  Варіант В: Поведінка дітей заспокої...      В\n",
      "...                                                 ...    ...\n",
      "1506  Response:  Варіант В: Іван купив відштовхувач від      В\n",
      "1507  Response:  Варіант В: Пейдж довелася покладати...      В\n",
      "1508  Response:  Варіант В: John was happy that he h...      В\n",
      "1509  Response:  Варіант В: Флейта звучала прекрасно.        В\n",
      "1510        Response:  Варіант В: Маггі дуже розжалась.      В\n",
      "\n",
      "[1511 rows x 2 columns]\n"
     ]
    },
    {
     "data": {
      "text/plain": [
       "0.8"
      ]
     },
     "execution_count": 27,
     "metadata": {},
     "output_type": "execute_result"
    }
   ],
   "source": [
    "get_results(xstorycloze,task='xstorycloze',response_loc=\"../results/xstorycloze/llama/llama-7b_xstorycloze_Ukrainian_basic_instr_Ukrainian.csv\")"
   ]
  },
  {
   "cell_type": "code",
   "execution_count": 28,
   "metadata": {},
   "outputs": [
    {
     "data": {
      "text/plain": [
       "'В'"
      ]
     },
     "execution_count": 28,
     "metadata": {},
     "output_type": "execute_result"
    }
   ],
   "source": [
    "extract_ab_answer('Варіант В: ')"
   ]
  },
  {
   "cell_type": "code",
   "execution_count": null,
   "metadata": {},
   "outputs": [],
   "source": []
  },
  {
   "cell_type": "code",
   "execution_count": null,
   "metadata": {},
   "outputs": [],
   "source": []
  }
 ],
 "metadata": {
  "kernelspec": {
   "display_name": "llama",
   "language": "python",
   "name": "python3"
  },
  "language_info": {
   "codemirror_mode": {
    "name": "ipython",
    "version": 3
   },
   "file_extension": ".py",
   "mimetype": "text/x-python",
   "name": "python",
   "nbconvert_exporter": "python",
   "pygments_lexer": "ipython3",
   "version": "3.10.13"
  }
 },
 "nbformat": 4,
 "nbformat_minor": 2
}
