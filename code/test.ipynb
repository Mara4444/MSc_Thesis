{
 "cells": [
  {
   "cell_type": "code",
   "execution_count": 17,
   "metadata": {},
   "outputs": [],
   "source": [
    "# from src.translation_utils import *\n",
    "from src.dataset_utils import *\n",
    "from src.cot_utils_copy import *"
   ]
  },
  {
   "cell_type": "code",
   "execution_count": 18,
   "metadata": {},
   "outputs": [],
   "source": [
    "xstorycloze = get_dataset_df(\"xstorycloze\",\"en\")"
   ]
  },
  {
   "cell_type": "code",
   "execution_count": 21,
   "metadata": {},
   "outputs": [],
   "source": [
    "def get_translated_dataset_df(name,lang):\n",
    "    \"\"\"\n",
    "    Loads a translated dataset from the directory in the requested language.\n",
    "    \n",
    "    Parameters:\n",
    "    name: name of the dataset ['mgsm', 'xcopa', 'xstorycloze', 'mkqa', 'pawsx', 'xnli' or 'xlsum']\n",
    "    lang: language of the dataset to load.\n",
    "    \n",
    "    Returns:\n",
    "    Dataset in the specified language as dataframe\n",
    "    \"\"\"\n",
    "    lang = language_codes[lang]\n",
    "\n",
    "    if name == \"mgsm\":\n",
    "        \n",
    "        df = pd.read_csv('./datasets/mgsm/mgsm_' + lang + '.csv',sep=';') \n",
    "        \n",
    "        return df\n",
    "    \n",
    "    elif name == \"xcopa\":\n",
    "       \n",
    "        df = pd.read_csv('./datasets/xcopa/xcopa_' + lang + '.csv',sep=';') \n",
    "        \n",
    "        return df\n",
    "    \n",
    "    elif name == 'msvamp':\n",
    "\n",
    "        df = pd.read_csv('./datasets/msvamp/msvamp_' + lang + '.csv',sep=';') \n",
    "\n",
    "        return df\n",
    "    \n",
    "    elif name == 'coinflip':\n",
    "\n",
    "        df = pd.read_csv('./datasets/coinflip/coinflip_' + lang + '.csv',sep=';') \n",
    "\n",
    "        return df\n",
    "    \n",
    "    elif name == 'shuffled_objects':\n",
    "\n",
    "        df = pd.read_csv('./datasets/shuffled_objects/shuffled_objects_' + lang + '.csv',sep=';') \n",
    "\n",
    "        return df\n",
    "    \n",
    "    elif name == 'xstorycloze':\n",
    "\n",
    "        df = pd.read_csv('../datasets/xstorycloze/' + lang + '.csv',sep=';') \n",
    "\n",
    "        return df\n",
    "    \n",
    "    else:\n",
    "        print(\"Dataset name is not correctly specified. Please input 'mgsm' or 'xcopa'.\")\n"
   ]
  },
  {
   "cell_type": "code",
   "execution_count": 24,
   "metadata": {},
   "outputs": [],
   "source": [
    "tib = get_translated_dataset_df(\"xstorycloze\",\"Tibetan\")\n",
    "tib.to_csv('bod_Tibt.csv',sep=',')"
   ]
  },
  {
   "cell_type": "code",
   "execution_count": 27,
   "metadata": {},
   "outputs": [],
   "source": [
    "df = pd.read_csv('../results/xstorycloze/bloomz/bloomz-7b1_xstorycloze_Basque_basic_instr_English.csv',header=None)"
   ]
  },
  {
   "cell_type": "code",
   "execution_count": 28,
   "metadata": {},
   "outputs": [],
   "source": [
    "def split_at_last_colon(text):\n",
    "    \"\"\"\n",
    "    Splits the text at the last occurrence of a colon ':'.\n",
    "\n",
    "    Args:\n",
    "    text (str): The string to be split.\n",
    "\n",
    "    Returns:\n",
    "    str: The part of the string after the last colon.\n",
    "    \"\"\"\n",
    "    before, separator, after = text.rpartition(':')\n",
    "    return after  \n",
    "\n",
    "df[0] = df[0].apply(split_at_last_colon)\n",
    "\n",
    "df.to_csv('../results/xstorycloze/bloomz/bloomz-7b1_xstorycloze_Basque_basic_instr_English2.csv', header=None, index=False)\n"
   ]
  },
  {
   "cell_type": "code",
   "execution_count": null,
   "metadata": {},
   "outputs": [],
   "source": []
  }
 ],
 "metadata": {
  "kernelspec": {
   "display_name": "llama",
   "language": "python",
   "name": "python3"
  },
  "language_info": {
   "codemirror_mode": {
    "name": "ipython",
    "version": 3
   },
   "file_extension": ".py",
   "mimetype": "text/x-python",
   "name": "python",
   "nbconvert_exporter": "python",
   "pygments_lexer": "ipython3",
   "version": "3.10.13"
  }
 },
 "nbformat": 4,
 "nbformat_minor": 2
}
