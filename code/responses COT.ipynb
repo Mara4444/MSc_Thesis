{
 "cells": [
  {
   "cell_type": "code",
   "execution_count": 1,
   "metadata": {},
   "outputs": [
    {
     "name": "stderr",
     "output_type": "stream",
     "text": [
      "c:\\Users\\maras\\anaconda3\\envs\\llama\\lib\\site-packages\\tqdm\\auto.py:21: TqdmWarning: IProgress not found. Please update jupyter and ipywidgets. See https://ipywidgets.readthedocs.io/en/stable/user_install.html\n",
      "  from .autonotebook import tqdm as notebook_tqdm\n"
     ]
    }
   ],
   "source": [
    "# from src.translation_utils import *\n",
    "from src.dataset_utils import *\n",
    "from src.cot_utils import *"
   ]
  },
  {
   "cell_type": "code",
   "execution_count": 2,
   "metadata": {},
   "outputs": [],
   "source": [
    "mgsm = get_dataset_df(\"mgsm\",\"en\")\n",
    "xcopa = get_dataset_df(\"xcopa\",\"en\")\n",
    "msvamp = get_dataset_df(\"msvamp\",\"en\")"
   ]
  },
  {
   "cell_type": "code",
   "execution_count": 19,
   "metadata": {},
   "outputs": [],
   "source": [
    "coinflip = pd.read_csv('../datasets/coinflip/coinflip_eng_Latn.csv',sep=';')\n",
    "shuffled_objects = pd.read_csv('../datasets/shuffled_objects/shuffled_objects_eng_Latn.csv',sep=';')"
   ]
  },
  {
   "cell_type": "markdown",
   "metadata": {},
   "source": [
    "For Llama-2 English dataset with English instruction basic vs CoT:\n",
    "1) XCOPA (commonsense)\n",
    "2) MGSM (arithmetic)\n",
    "3) MSVAMP (arithmetic)\n",
    "4) Coinflip (symbolic)\n",
    "5) Shuffled objects (other)"
   ]
  },
  {
   "cell_type": "markdown",
   "metadata": {},
   "source": [
    "# Llama-2-7b-chat"
   ]
  },
  {
   "cell_type": "code",
   "execution_count": 20,
   "metadata": {},
   "outputs": [
    {
     "name": "stdout",
     "output_type": "stream",
     "text": [
      "-------XCOPA-------\n",
      "69.0\n",
      "62.6\n",
      "-------MGSM-------\n",
      "8.0\n",
      "19.6\n",
      "-------MSVAMP-------\n",
      "32.8\n",
      "41.9\n",
      "-------Coin Flip-------\n",
      "49.2\n",
      "48.0\n",
      "-------Shuffled Objects-------\n",
      "32.3\n",
      "34.7\n"
     ]
    }
   ],
   "source": [
    "print('-------XCOPA-------')\n",
    "print(get_results(xcopa,task='xcopa',response_loc=\"../results/xcopa/llama/llama-2-7b_xcopa_English_basic_instr_English.csv\"))\n",
    "print(get_results(xcopa,task='xcopa',response_loc=\"../results/xcopa/llama/llama-2-7b_xcopa_English_cot_instr_English.csv\"))\n",
    "\n",
    "print('-------MGSM-------')\n",
    "print(get_results(mgsm,task='mgsm',response_loc=\"../results/mgsm/llama-2-7b_mgsm_English_basic_instr_English.csv\"))\n",
    "print(get_results(mgsm,task='mgsm',response_loc=\"../results/mgsm/llama-2-7b_mgsm_English_cot_instr_English.csv\"))\n",
    "\n",
    "print('-------MSVAMP-------')\n",
    "print(get_results(msvamp,task='msvamp',response_loc='../results/msvamp/llama-2-7b_msvamp_English_basic_instr_English.csv'))\n",
    "print(get_results(msvamp,task='msvamp',response_loc='../results/msvamp/llama-2-7b_msvamp_English_cot_instr_English.csv'))\n",
    "\n",
    "print('-------Coin Flip-------')\n",
    "print(get_results(coinflip,task='coinflip',response_loc='../results/coinflip/llama-2-7b_coinflip_English_basic_instr_English.csv'))\n",
    "print(get_results(coinflip,task='coinflip',response_loc='../results/coinflip/llama-2-7b_coinflip_English_cot_instr_English.csv'))\n",
    "\n",
    "print('-------Shuffled Objects-------')\n",
    "print(get_results(shuffled_objects,task='shuffled_objects',response_loc='../results/shuffled_objects/llama-2-7b_shuffled_objects_English_basic_instr_English.csv'))\n",
    "print(get_results(shuffled_objects,task='shuffled_objects',response_loc='../results/shuffled_objects/llama-2-7b_shuffled_objects_English_cot_instr_English.csv'))\n"
   ]
  },
  {
   "cell_type": "markdown",
   "metadata": {},
   "source": [
    "# Bloomz-7b1-mt"
   ]
  },
  {
   "cell_type": "code",
   "execution_count": 21,
   "metadata": {},
   "outputs": [
    {
     "name": "stdout",
     "output_type": "stream",
     "text": [
      "-------XCOPA-------\n",
      "85.8\n",
      "87.2\n",
      "-------MGSM-------\n",
      "1.6\n",
      "0.4\n",
      "-------MSVAMP-------\n",
      "1.1\n",
      "0.0\n",
      "-------Coin Flip-------\n",
      "52.0\n",
      "46.0\n",
      "-------Shuffled Objects-------\n",
      "24.4\n",
      "11.7\n"
     ]
    }
   ],
   "source": [
    "print('-------XCOPA-------')\n",
    "print(get_results(xcopa,task='xcopa',response_loc=\"../results/xcopa/bloomz/bloomz-7b1_xcopa_English_basic_instr_English.csv\"))\n",
    "print(get_results(xcopa,task='xcopa',response_loc=\"../results/xcopa/bloomz/bloomz-7b1_xcopa_English_cot_instr_English.csv\"))\n",
    "\n",
    "print('-------MGSM-------')\n",
    "print(get_results(mgsm,task='mgsm',response_loc=\"../results/mgsm/bloomz-7b1_mgsm_English_basic_instr_English.csv\"))\n",
    "print(get_results(mgsm,task='mgsm',response_loc=\"../results/mgsm/bloomz-7b1_mgsm_English_cot_instr_English.csv\"))\n",
    "\n",
    "print('-------MSVAMP-------')\n",
    "print(get_results(msvamp,task='msvamp',response_loc='../results/msvamp/bloomz-7b1_msvamp_English_basic_instr_English.csv'))\n",
    "print(get_results(msvamp,task='msvamp',response_loc='../results/msvamp/bloomz-7b1_msvamp_English_cot_instr_English.csv'))\n",
    "\n",
    "print('-------Coin Flip-------')\n",
    "print(get_results(coinflip,task='coinflip',response_loc='../results/coinflip/bloomz-7b1_coinflip_English_basic_instr_English.csv'))\n",
    "print(get_results(coinflip,task='coinflip',response_loc='../results/coinflip/bloomz-7b1_coinflip_English_cot_instr_English.csv'))\n",
    "\n",
    "print('-------Shuffled Objects-------')\n",
    "print(get_results(shuffled_objects,task='shuffled_objects',response_loc='../results/shuffled_objects/bloomz-7b1_shuffled_objects_English_basic_instr_English.csv'))\n",
    "print(get_results(shuffled_objects,task='shuffled_objects',response_loc='../results/shuffled_objects/bloomz-7b1_shuffled_objects_English_cot_instr_English.csv'))\n"
   ]
  },
  {
   "cell_type": "markdown",
   "metadata": {},
   "source": [
    "# Llama-2-13b-chat"
   ]
  },
  {
   "cell_type": "code",
   "execution_count": 25,
   "metadata": {},
   "outputs": [
    {
     "name": "stdout",
     "output_type": "stream",
     "text": [
      "-------XCOPA-------\n",
      "73.0\n",
      "67.8\n",
      "-------MGSM-------\n",
      "18.8\n",
      "31.2\n",
      "-------MSVAMP-------\n",
      "47.5\n",
      "47.7\n",
      "-------Coin Flip-------\n",
      "49.4\n",
      "52.4\n",
      "-------Shuffled Objects-------\n",
      "33.5\n",
      "33.9\n"
     ]
    }
   ],
   "source": [
    "print('-------XCOPA-------')\n",
    "print(get_results(xcopa,task='xcopa',response_loc=\"../results/xcopa/llama/llama-2-13b_xcopa_English_basic_instr_English.csv\"))\n",
    "print(get_results(xcopa,task='xcopa',response_loc=\"../results/xcopa/llama/llama-2-13b_xcopa_English_cot_instr_English.csv\"))\n",
    "\n",
    "print('-------MGSM-------')\n",
    "print(get_results(mgsm,task='mgsm',response_loc=\"../results/mgsm/llama-2-13b_mgsm_English_basic_instr_English.csv\"))\n",
    "print(get_results(mgsm,task='mgsm',response_loc=\"../results/mgsm/llama-2-13b_mgsm_English_cot_instr_English.csv\"))\n",
    "\n",
    "print('-------MSVAMP-------')\n",
    "print(get_results(msvamp,task='msvamp',response_loc='../results/msvamp/llama-2-13b_msvamp_English_basic_instr_English.csv'))\n",
    "print(get_results(msvamp,task='msvamp',response_loc='../results/msvamp/llama-2-13b_msvamp_English_cot_instr_English.csv'))\n",
    "\n",
    "print('-------Coin Flip-------')\n",
    "print(get_results(coinflip,task='coinflip',response_loc='../results/coinflip/llama-2-13b_coinflip_English_basic_instr_English.csv'))\n",
    "print(get_results(coinflip,task='coinflip',response_loc='../results/coinflip/llama-2-13b_coinflip_English_cot_instr_English.csv'))\n",
    "\n",
    "print('-------Shuffled Objects-------')\n",
    "print(get_results(shuffled_objects,task='shuffled_objects',response_loc='../results/shuffled_objects/llama-2-13b_shuffled_objects_English_basic_instr_English.csv'))\n",
    "print(get_results(shuffled_objects,task='shuffled_objects',response_loc='../results/shuffled_objects/llama-2-13b_shuffled_objects_English_cot_instr_English.csv'))\n"
   ]
  },
  {
   "cell_type": "markdown",
   "metadata": {},
   "source": [
    "# Bloomz-7b1-mt-chat"
   ]
  },
  {
   "cell_type": "code",
   "execution_count": 23,
   "metadata": {},
   "outputs": [
    {
     "name": "stdout",
     "output_type": "stream",
     "text": [
      "-------XCOPA-------\n",
      "82.2\n",
      "72.4\n",
      "-------MGSM-------\n",
      "2.8\n",
      "1.2\n",
      "-------MSVAMP-------\n",
      "7.9\n",
      "5.6\n",
      "-------Coin Flip-------\n",
      "49.0\n",
      "27.2\n",
      "-------Shuffled Objects-------\n",
      "33.6\n",
      "0.0\n"
     ]
    }
   ],
   "source": [
    "print('-------XCOPA-------')\n",
    "print(get_results(xcopa,task='xcopa',response_loc=\"../results/xcopa/bloomz-7b1-chat_xcopa_English_basic_instr_English.csv\"))\n",
    "print(get_results(xcopa,task='xcopa',response_loc=\"../results/xcopa/bloomz-7b1-chat_xcopa_English_cot_instr_English.csv\"))\n",
    "\n",
    "print('-------MGSM-------')\n",
    "print(get_results(mgsm,task='mgsm',response_loc=\"../results/mgsm/bloomz-7b1-chat_mgsm_English_basic_instr_English.csv\"))\n",
    "print(get_results(mgsm,task='mgsm',response_loc=\"../results/mgsm/bloomz-7b1-chat_mgsm_English_cot_instr_English.csv\"))\n",
    "\n",
    "print('-------MSVAMP-------')\n",
    "print(get_results(msvamp,task='msvamp',response_loc='../results/msvamp/bloomz-7b1-chat_msvamp_English_basic_instr_English.csv'))\n",
    "print(get_results(msvamp,task='msvamp',response_loc='../results/msvamp/bloomz-7b1-chat_msvamp_English_cot_instr_English.csv'))\n",
    "\n",
    "print('-------Coin Flip-------')\n",
    "print(get_results(coinflip,task='coinflip',response_loc='../results/coinflip/bloomz-7b1-chat_coinflip_English_basic_instr_English.csv'))\n",
    "print(get_results(coinflip,task='coinflip',response_loc='../results/coinflip/bloomz-7b1-chat_coinflip_English_cot_instr_English.csv'))\n",
    "\n",
    "print('-------Shuffled Objects-------')\n",
    "print(get_results(shuffled_objects,task='shuffled_objects',response_loc='../results/shuffled_objects/bloomz-7b1-chat_shuffled_objects_English_basic_instr_English.csv'))\n",
    "print(get_results(shuffled_objects,task='shuffled_objects',response_loc='../results/shuffled_objects/bloomz-7b1-chat_shuffled_objects_English_cot_instr_English.csv'))\n"
   ]
  },
  {
   "cell_type": "markdown",
   "metadata": {},
   "source": [
    "# mGPT"
   ]
  },
  {
   "cell_type": "code",
   "execution_count": 26,
   "metadata": {},
   "outputs": [
    {
     "name": "stdout",
     "output_type": "stream",
     "text": [
      "-------XCOPA-------\n",
      "27.4\n",
      "1.8\n",
      "-------MGSM-------\n",
      "2.0\n",
      "0.8\n",
      "-------MSVAMP-------\n",
      "2.6\n",
      "2.8\n",
      "-------Coin Flip-------\n",
      "50.6\n",
      "1.2\n",
      "-------Shuffled Objects-------\n",
      "33.3\n",
      "4.4\n"
     ]
    }
   ],
   "source": [
    "print('-------XCOPA-------')\n",
    "print(get_results(xcopa,task='xcopa',response_loc=\"../results/xcopa/mGPT_xcopa_English_basic_instr_English.csv\"))\n",
    "print(get_results(xcopa,task='xcopa',response_loc=\"../results/xcopa/mGPT_xcopa_English_cot_instr_English.csv\"))\n",
    "\n",
    "print('-------MGSM-------')\n",
    "print(get_results(mgsm,task='mgsm',response_loc=\"../results/mgsm/mGPT_mgsm_English_basic_instr_English.csv\"))\n",
    "print(get_results(mgsm,task='mgsm',response_loc=\"../results/mgsm/mGPT_mgsm_English_cot_instr_English.csv\"))\n",
    "\n",
    "print('-------MSVAMP-------')\n",
    "print(get_results(msvamp,task='msvamp',response_loc='../results/msvamp/mGPT_msvamp_English_basic_instr_English.csv'))\n",
    "print(get_results(msvamp,task='msvamp',response_loc='../results/msvamp/mGPT_msvamp_English_cot_instr_English.csv'))\n",
    "\n",
    "print('-------Coin Flip-------')\n",
    "print(get_results(coinflip,task='coinflip',response_loc='../results/coinflip/mGPT_coinflip_English_basic_instr_English.csv'))\n",
    "print(get_results(coinflip,task='coinflip',response_loc='../results/coinflip/mGPT_coinflip_English_cot_instr_English.csv'))\n",
    "\n",
    "print('-------Shuffled Objects-------')\n",
    "print(get_results(shuffled_objects,task='shuffled_objects',response_loc='../results/shuffled_objects/mGPT_shuffled_objects_English_basic_instr_English.csv'))\n",
    "print(get_results(shuffled_objects,task='shuffled_objects',response_loc='../results/shuffled_objects/mGPT_shuffled_objects_English_cot_instr_English.csv'))\n"
   ]
  },
  {
   "cell_type": "markdown",
   "metadata": {},
   "source": [
    "# XGLM-7.5b"
   ]
  },
  {
   "cell_type": "code",
   "execution_count": 10,
   "metadata": {},
   "outputs": [
    {
     "name": "stdout",
     "output_type": "stream",
     "text": [
      "-------XCOPA-------\n",
      "0.0\n",
      "0.0\n",
      "-------MGSM-------\n",
      "0.0\n",
      "0.0\n",
      "-------MSVAMP-------\n",
      "0.6\n",
      "0.0\n",
      "-------Coin Flip-------\n",
      "0.0\n",
      "0.0\n",
      "-------Shuffled Objects-------\n",
      "0.0\n",
      "0.0\n"
     ]
    }
   ],
   "source": [
    "print('-------XCOPA-------')\n",
    "print(get_results(xcopa,task='xcopa',response_loc=\"../results/xcopa/xglm-7.5b_xcopa_English_basic_instr_English.csv\"))\n",
    "print(get_results(xcopa,task='xcopa',response_loc=\"../results/xcopa/xglm-7.5b_xcopa_English_cot_instr_English.csv\"))\n",
    "\n",
    "print('-------MGSM-------')\n",
    "print(get_results(mgsm,task='mgsm',response_loc=\"../results/mgsm/xglm-7.5b_mgsm_English_basic_instr_English.csv\"))\n",
    "print(get_results(mgsm,task='mgsm',response_loc=\"../results/mgsm/xglm-7.5b_mgsm_English_cot_instr_English.csv\"))\n",
    "\n",
    "print('-------MSVAMP-------')\n",
    "print(get_results(msvamp,task='msvamp',response_loc='../results/msvamp/xglm-7.5b_msvamp_English_basic_instr_English.csv'))\n",
    "print(get_results(msvamp,task='msvamp',response_loc='../results/msvamp/xglm-7.5b_msvamp_English_cot_instr_English.csv'))\n",
    "\n",
    "print('-------Coin Flip-------')\n",
    "print(get_results(coinflip,task='coinflip',response_loc='../results/coinflip/xglm-7.5b_coinflip_English_basic_instr_English.csv'))\n",
    "print(get_results(coinflip,task='coinflip',response_loc='../results/coinflip/xglm-7.5b_coinflip_English_cot_instr_English.csv'))\n",
    "\n",
    "print('-------Shuffled Objects-------')\n",
    "print(get_results(shuffled_objects,task='shuffled_objects',response_loc='../results/shuffled_objects/xglm-7.5b_shuffled_objects_English_basic_instr_English.csv'))\n",
    "print(get_results(shuffled_objects,task='shuffled_objects',response_loc='../results/shuffled_objects/xglm-7.5b_shuffled_objects_English_cot_instr_English.csv'))\n"
   ]
  },
  {
   "cell_type": "code",
   "execution_count": null,
   "metadata": {},
   "outputs": [],
   "source": []
  }
 ],
 "metadata": {
  "kernelspec": {
   "display_name": "llama",
   "language": "python",
   "name": "python3"
  },
  "language_info": {
   "codemirror_mode": {
    "name": "ipython",
    "version": 3
   },
   "file_extension": ".py",
   "mimetype": "text/x-python",
   "name": "python",
   "nbconvert_exporter": "python",
   "pygments_lexer": "ipython3",
   "version": "3.10.13"
  }
 },
 "nbformat": 4,
 "nbformat_minor": 2
}
